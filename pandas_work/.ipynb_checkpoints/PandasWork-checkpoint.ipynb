{
 "cells": [
  {
   "cell_type": "code",
   "execution_count": 2,
   "id": "f4455c89-07ee-4561-a765-4ea9787aa2f2",
   "metadata": {},
   "outputs": [],
   "source": [
    "import pandas\n",
    "url = \"https://en.wikipedia.org/wiki/Python_(programming_language)\"\n",
    "d = pandas.read_html(url)[1]"
   ]
  },
  {
   "cell_type": "code",
   "execution_count": 24,
   "id": "026091a8-08fe-474c-8c08-cf6a51f211a7",
   "metadata": {},
   "outputs": [
    {
     "data": {
      "text/html": [
       "<div>\n",
       "<style scoped>\n",
       "    .dataframe tbody tr th:only-of-type {\n",
       "        vertical-align: middle;\n",
       "    }\n",
       "\n",
       "    .dataframe tbody tr th {\n",
       "        vertical-align: top;\n",
       "    }\n",
       "\n",
       "    .dataframe thead th {\n",
       "        text-align: right;\n",
       "    }\n",
       "</style>\n",
       "<table border=\"1\" class=\"dataframe\">\n",
       "  <thead>\n",
       "    <tr style=\"text-align: right;\">\n",
       "      <th></th>\n",
       "      <th>Type</th>\n",
       "      <th>Mutability</th>\n",
       "      <th>Description</th>\n",
       "      <th>Syntax examples</th>\n",
       "    </tr>\n",
       "  </thead>\n",
       "  <tbody>\n",
       "    <tr>\n",
       "      <th>0</th>\n",
       "      <td>bool</td>\n",
       "      <td>immutable</td>\n",
       "      <td>Boolean value</td>\n",
       "      <td>True False</td>\n",
       "    </tr>\n",
       "    <tr>\n",
       "      <th>1</th>\n",
       "      <td>bytearray</td>\n",
       "      <td>mutable</td>\n",
       "      <td>Sequence of bytes</td>\n",
       "      <td>bytearray(b'Some ASCII') bytearray(b\"Some ASCI...</td>\n",
       "    </tr>\n",
       "    <tr>\n",
       "      <th>2</th>\n",
       "      <td>bytes</td>\n",
       "      <td>immutable</td>\n",
       "      <td>Sequence of bytes</td>\n",
       "      <td>b'Some ASCII' b\"Some ASCII\" bytes([119, 105, 1...</td>\n",
       "    </tr>\n",
       "    <tr>\n",
       "      <th>3</th>\n",
       "      <td>complex</td>\n",
       "      <td>immutable</td>\n",
       "      <td>Complex number with real and imaginary parts</td>\n",
       "      <td>3+2.7j 3 + 2.7j</td>\n",
       "    </tr>\n",
       "    <tr>\n",
       "      <th>4</th>\n",
       "      <td>dict</td>\n",
       "      <td>mutable</td>\n",
       "      <td>Associative array (or dictionary) of key and v...</td>\n",
       "      <td>{'key1': 1.0, 3: False} {}</td>\n",
       "    </tr>\n",
       "    <tr>\n",
       "      <th>5</th>\n",
       "      <td>types.EllipsisType</td>\n",
       "      <td>immutable</td>\n",
       "      <td>An ellipsis placeholder to be used as an index...</td>\n",
       "      <td>... Ellipsis</td>\n",
       "    </tr>\n",
       "    <tr>\n",
       "      <th>6</th>\n",
       "      <td>float</td>\n",
       "      <td>immutable</td>\n",
       "      <td>Double-precision floating-point number. The pr...</td>\n",
       "      <td>1.33333</td>\n",
       "    </tr>\n",
       "    <tr>\n",
       "      <th>7</th>\n",
       "      <td>frozenset</td>\n",
       "      <td>immutable</td>\n",
       "      <td>Unordered set, contains no duplicates; can con...</td>\n",
       "      <td>frozenset([4.0, 'string', True])</td>\n",
       "    </tr>\n",
       "    <tr>\n",
       "      <th>8</th>\n",
       "      <td>int</td>\n",
       "      <td>immutable</td>\n",
       "      <td>Integer of unlimited magnitude[108]</td>\n",
       "      <td>42</td>\n",
       "    </tr>\n",
       "    <tr>\n",
       "      <th>9</th>\n",
       "      <td>list</td>\n",
       "      <td>mutable</td>\n",
       "      <td>List, can contain mixed types</td>\n",
       "      <td>[4.0, 'string', True] []</td>\n",
       "    </tr>\n",
       "    <tr>\n",
       "      <th>10</th>\n",
       "      <td>types.NoneType</td>\n",
       "      <td>immutable</td>\n",
       "      <td>An object representing the absence of a value,...</td>\n",
       "      <td>NaN</td>\n",
       "    </tr>\n",
       "    <tr>\n",
       "      <th>11</th>\n",
       "      <td>types.NotImplementedType</td>\n",
       "      <td>immutable</td>\n",
       "      <td>A placeholder that can be returned from overlo...</td>\n",
       "      <td>NotImplemented</td>\n",
       "    </tr>\n",
       "    <tr>\n",
       "      <th>12</th>\n",
       "      <td>range</td>\n",
       "      <td>immutable</td>\n",
       "      <td>An immutable sequence of numbers commonly used...</td>\n",
       "      <td>range(-1, 10) range(10, -5, -2)</td>\n",
       "    </tr>\n",
       "    <tr>\n",
       "      <th>13</th>\n",
       "      <td>set</td>\n",
       "      <td>mutable</td>\n",
       "      <td>Unordered set, contains no duplicates; can con...</td>\n",
       "      <td>{4.0, 'string', True} set()</td>\n",
       "    </tr>\n",
       "    <tr>\n",
       "      <th>14</th>\n",
       "      <td>str</td>\n",
       "      <td>immutable</td>\n",
       "      <td>A character string: sequence of Unicode codepo...</td>\n",
       "      <td>'Wikipedia' \"Wikipedia\"\"\"\"Spanning multiple li...</td>\n",
       "    </tr>\n",
       "    <tr>\n",
       "      <th>15</th>\n",
       "      <td>tuple</td>\n",
       "      <td>immutable</td>\n",
       "      <td>Can contain mixed types</td>\n",
       "      <td>(4.0, 'string', True) ('single element',) ()</td>\n",
       "    </tr>\n",
       "  </tbody>\n",
       "</table>\n",
       "</div>"
      ],
      "text/plain": [
       "                        Type Mutability  \\\n",
       "0                       bool  immutable   \n",
       "1                  bytearray    mutable   \n",
       "2                      bytes  immutable   \n",
       "3                    complex  immutable   \n",
       "4                       dict    mutable   \n",
       "5         types.EllipsisType  immutable   \n",
       "6                      float  immutable   \n",
       "7                  frozenset  immutable   \n",
       "8                        int  immutable   \n",
       "9                       list    mutable   \n",
       "10            types.NoneType  immutable   \n",
       "11  types.NotImplementedType  immutable   \n",
       "12                     range  immutable   \n",
       "13                       set    mutable   \n",
       "14                       str  immutable   \n",
       "15                     tuple  immutable   \n",
       "\n",
       "                                          Description  \\\n",
       "0                                       Boolean value   \n",
       "1                                   Sequence of bytes   \n",
       "2                                   Sequence of bytes   \n",
       "3        Complex number with real and imaginary parts   \n",
       "4   Associative array (or dictionary) of key and v...   \n",
       "5   An ellipsis placeholder to be used as an index...   \n",
       "6   Double-precision floating-point number. The pr...   \n",
       "7   Unordered set, contains no duplicates; can con...   \n",
       "8                 Integer of unlimited magnitude[108]   \n",
       "9                       List, can contain mixed types   \n",
       "10  An object representing the absence of a value,...   \n",
       "11  A placeholder that can be returned from overlo...   \n",
       "12  An immutable sequence of numbers commonly used...   \n",
       "13  Unordered set, contains no duplicates; can con...   \n",
       "14  A character string: sequence of Unicode codepo...   \n",
       "15                            Can contain mixed types   \n",
       "\n",
       "                                      Syntax examples  \n",
       "0                                          True False  \n",
       "1   bytearray(b'Some ASCII') bytearray(b\"Some ASCI...  \n",
       "2   b'Some ASCII' b\"Some ASCII\" bytes([119, 105, 1...  \n",
       "3                                     3+2.7j 3 + 2.7j  \n",
       "4                          {'key1': 1.0, 3: False} {}  \n",
       "5                                        ... Ellipsis  \n",
       "6                                             1.33333  \n",
       "7                    frozenset([4.0, 'string', True])  \n",
       "8                                                  42  \n",
       "9                            [4.0, 'string', True] []  \n",
       "10                                                NaN  \n",
       "11                                     NotImplemented  \n",
       "12                    range(-1, 10) range(10, -5, -2)  \n",
       "13                        {4.0, 'string', True} set()  \n",
       "14  'Wikipedia' \"Wikipedia\"\"\"\"Spanning multiple li...  \n",
       "15       (4.0, 'string', True) ('single element',) ()  "
      ]
     },
     "execution_count": 24,
     "metadata": {},
     "output_type": "execute_result"
    }
   ],
   "source": [
    "d"
   ]
  },
  {
   "cell_type": "code",
   "execution_count": 25,
   "id": "c1766dc6-7dee-4006-bcc5-1a823d2f834d",
   "metadata": {},
   "outputs": [
    {
     "data": {
      "text/plain": [
       "'                        Type Mutability                                                                                                                                                                      Description                                                                    Syntax examples\\n0                       bool  immutable                                                                                                                                                                    Boolean value                                                                         True False\\n1                  bytearray    mutable                                                                                                                                                                Sequence of bytes  bytearray(b\\'Some ASCII\\') bytearray(b\"Some ASCII\") bytearray([119, 105, 107, 105])\\n2                      bytes  immutable                                                                                                                                                                Sequence of bytes                            b\\'Some ASCII\\' b\"Some ASCII\" bytes([119, 105, 107, 105])\\n3                    complex  immutable                                                                                                                                     Complex number with real and imaginary parts                                                                    3+2.7j 3 + 2.7j\\n4                       dict    mutable                                                Associative array (or dictionary) of key and value pairs; can contain mixed types (keys and values), keys must be a hashable type                                                         {\\'key1\\': 1.0, 3: False} {}\\n5         types.EllipsisType  immutable                                                                                                                   An ellipsis placeholder to be used as an index in NumPy arrays                                                                       ... Ellipsis\\n6                      float  immutable  Double-precision floating-point number. The precision is machine-dependent but in practice is generally implemented as a 64-bit IEEE\\xa0754 number with 53\\xa0bits of precision.[107]                                                                            1.33333\\n7                  frozenset  immutable                                                                                                      Unordered set, contains no duplicates; can contain mixed types, if hashable                                                   frozenset([4.0, \\'string\\', True])\\n8                        int  immutable                                                                                                                                              Integer of unlimited magnitude[108]                                                                                 42\\n9                       list    mutable                                                                                                                                                    List, can contain mixed types                                                           [4.0, \\'string\\', True] []\\n10            types.NoneType  immutable                                                                                              An object representing the absence of a value, often called null in other languages                                                                                NaN\\n11  types.NotImplementedType  immutable                                                                              A placeholder that can be returned from overloaded operators to indicate unsupported operand types.                                                                     NotImplemented\\n12                     range  immutable                                                                          An immutable sequence of numbers commonly used for looping a specific number of times in for loops[109]                                                    range(-1, 10) range(10, -5, -2)\\n13                       set    mutable                                                                                                      Unordered set, contains no duplicates; can contain mixed types, if hashable                                                        {4.0, \\'string\\', True} set()\\n14                       str  immutable                                                                                                                               A character string: sequence of Unicode codepoints       \\'Wikipedia\\' \"Wikipedia\"\"\"\"Spanning multiple lines\"\"\" Spanning multiple lines\\n15                     tuple  immutable                                                                                                                                                          Can contain mixed types                                       (4.0, \\'string\\', True) (\\'single element\\',) ()'"
      ]
     },
     "execution_count": 25,
     "metadata": {},
     "output_type": "execute_result"
    }
   ],
   "source": [
    "# Scenario 1\n",
    "# get type column when mutability is mutable\n",
    "data = d.to_string()\n",
    "data"
   ]
  },
  {
   "cell_type": "code",
   "execution_count": 4,
   "id": "fa29e5f2-7597-45fd-999c-ec11913cf496",
   "metadata": {},
   "outputs": [
    {
     "data": {
      "text/plain": [
       "['bytearray', 'dict', 'list', 'set']"
      ]
     },
     "execution_count": 4,
     "metadata": {},
     "output_type": "execute_result"
    }
   ],
   "source": [
    "import re\n",
    "s1 = re.findall(r\"\\n\\d+\\s+(.+?)\\s+mutable.+\", data)\n",
    "s1"
   ]
  },
  {
   "cell_type": "code",
   "execution_count": 7,
   "id": "5c30ec56-a519-4acd-9a52-bdbcbc44c791",
   "metadata": {},
   "outputs": [
    {
     "data": {
      "text/plain": [
       "['dict', 'set']"
      ]
     },
     "execution_count": 7,
     "metadata": {},
     "output_type": "execute_result"
    }
   ],
   "source": [
    "# Scenario 2\n",
    "# get type column when syntax examples is between { } \n",
    "s2 = re.findall(r\"\\d+\\s+(\\w+?)\\s+.+\\{.*\\}\", data)\n",
    "s2"
   ]
  },
  {
   "cell_type": "code",
   "execution_count": 15,
   "id": "8e67f558-3a76-4a30-8c6c-822e88b22e67",
   "metadata": {},
   "outputs": [
    {
     "data": {
      "text/plain": [
       "['Boolean value',\n",
       " 'Associative array (or dictionary) of key and value pairs; can contain mixed types (keys and values), keys must be a hashable type',\n",
       " 'precision.[107]',\n",
       " 'immutable',\n",
       " 'Integer of unlimited magnitude[108]',\n",
       " 'mutable',\n",
       " 'Unordered set, contains no duplicates; can contain mixed types, if hashable',\n",
       " 'A character string: sequence of Unicode codepoints']"
      ]
     },
     "execution_count": 15,
     "metadata": {},
     "output_type": "execute_result"
    }
   ],
   "source": [
    "# Scenario 3\n",
    "# get description column when type no longer 4 characters\n",
    "s3 = re.findall(r\"\\d+\\s+\\w{1,4}\\s+\\w+?\\s+(.+?)\\s{2,}\", data)\n",
    "s3"
   ]
  },
  {
   "cell_type": "code",
   "execution_count": 33,
   "id": "85fa0912-0587-4f11-988d-39b7462be82c",
   "metadata": {},
   "outputs": [
    {
     "data": {
      "text/plain": [
       "[('1', 'Sequence o'),\n",
       " ('3', 'Complex nu'),\n",
       " ('5', 'An ellipsi'),\n",
       " ('7', 'Unordered '),\n",
       " ('9', 'List, can '),\n",
       " ('11', 'A placehol'),\n",
       " ('13', 'Unordered '),\n",
       " ('15', 'Can contai')]"
      ]
     },
     "execution_count": 33,
     "metadata": {},
     "output_type": "execute_result"
    }
   ],
   "source": [
    "# Scenario 4\n",
    "# get the first 10 characters of the description when id was odd number: 1, 3, 5, 7, 9, 11, 13, 15\n",
    "# * = 0 ou more times\n",
    "# \\w - A word character is a character a-z, A-Z, 0-9, including _ (underscore), but doesn't match white spaces\n",
    "s4 = re.findall(r\"\\n(\\d*[13579])\\s+[\\w\\.]+\\s+\\w+?\\s+(.{10})\", data)\n",
    "s4"
   ]
  },
  {
   "cell_type": "code",
   "execution_count": 35,
   "id": "4d64c199-89d5-4d11-901a-afbc88b3be08",
   "metadata": {},
   "outputs": [
    {
     "data": {
      "text/plain": [
       "['complex', 'dict', 'float', 'frozenset', 'list', 'set', 'tuple']"
      ]
     },
     "execution_count": 35,
     "metadata": {},
     "output_type": "execute_result"
    }
   ],
   "source": [
    "# Scenario 5\n",
    "# get type when syntax example has a float number\n",
    "s5 = re.findall(r\"\\n\\d+\\s+(\\w+?)\\s+.+\\d+\\.\\d+\", data)\n",
    "s5"
   ]
  },
  {
   "cell_type": "code",
   "execution_count": null,
   "id": "049adfd2-e3f1-4a1b-82fd-74ceff511354",
   "metadata": {},
   "outputs": [],
   "source": []
  }
 ],
 "metadata": {
  "kernelspec": {
   "display_name": "Python 3 (ipykernel)",
   "language": "python",
   "name": "python3"
  },
  "language_info": {
   "codemirror_mode": {
    "name": "ipython",
    "version": 3
   },
   "file_extension": ".py",
   "mimetype": "text/x-python",
   "name": "python",
   "nbconvert_exporter": "python",
   "pygments_lexer": "ipython3",
   "version": "3.10.5"
  }
 },
 "nbformat": 4,
 "nbformat_minor": 5
}
